{
 "cells": [
  {
   "cell_type": "markdown",
   "metadata": {},
   "source": [
    "<u><center><h1>Udacity MLND Capstone Project</h1>\n",
    "<h2>Plant Seedling Classfication</h2></center></u> \n",
    "<p> This project is taken from the <a href='https://www.kaggle.com/c/plant-seedlings-classification'>kaggle competition</a>. It aims at detecting plant as a part of one of the 12 categories and will help in effective weed management.</p>\n",
    "<p> The code below is broken down in the following sections:\n",
    "    <ul>\n",
    "        <li> Data Exploration</li>\n",
    "        <li> Pre-processing of data </li>\n",
    "        <li> Creating CNN Model </li>\n",
    "        <li> Comparing Results </li>"
   ]
  },
  {
   "cell_type": "markdown",
   "metadata": {},
   "source": [
    "## 1. DATA EXPLORATION\n",
    "\n",
    "### Loading the data set"
   ]
  },
  {
   "cell_type": "code",
   "execution_count": null,
   "metadata": {},
   "outputs": [],
   "source": [
    "# import required components\n",
    "from sklearn.datasets import load_files       \n",
    "from keras.utils import np_utils\n",
    "from glob import glob\n",
    "import numpy as np\n",
    "import os"
   ]
  },
  {
   "cell_type": "code",
   "execution_count": 2,
   "metadata": {},
   "outputs": [
    {
     "name": "stdout",
     "output_type": "stream",
     "text": [
      "---------------\n",
      "TRAINING DATA\n",
      "---------------\n",
      "There are 4750 training plant seedling images.\n",
      "There are 12 total plant seedling categories\n",
      "List of categories: ['Black-grass', 'Charlock', 'Cleavers', 'Common Chickweed', 'Common wheat', 'Fat Hen', 'Loose Silky-bent', 'Maize', 'Scentless Mayweed', 'Shepherds Purse', 'Small-flowered Cranesbill', 'Sugar beet']\n",
      "---------------\n",
      "TEST DATA\n",
      "---------------\n",
      "There are 794 test plant seedling images.\n"
     ]
    }
   ],
   "source": [
    "''' \n",
    "Here we are going to load our training and test dataset \n",
    "and see the count of files in both of them as well as the defined categories of lant ssedling data set.\n",
    "'''\n",
    "# define function to load train, test, and validation datasets\n",
    "def load_dataset(path):\n",
    "    data = load_files(path)\n",
    "    plant_files = np.array(data['filenames'])\n",
    "    plant_targets = np_utils.to_categorical(np.array(data['target']), 12)\n",
    "    return plant_files, plant_targets\n",
    "\n",
    "# load train and testdatasets\n",
    "train_files, train_targets = load_dataset('seedlingdata/train')\n",
    "\n",
    "# load list of plant seedling categories\n",
    "categories = [item[19:-1] for item in sorted(glob(\"seedlingdata/train/*/\"))]\n",
    "\n",
    "# find count of files under test data\n",
    "test_path, test_dirs, test_files = next(os.walk(\"seedlingdata/test\"))\n",
    "test_file_count = len(test_files)\n",
    "\n",
    "# print statistics about the dataset\n",
    "print('---------------')\n",
    "print('TRAINING DATA')\n",
    "print('---------------')\n",
    "print('There are %d training plant seedling images.' % len(train_files))\n",
    "print('There are %d total plant seedling categories' % len(categories))\n",
    "print('List of categories:',categories)\n",
    "\n",
    "print('---------------')\n",
    "print('TEST DATA')\n",
    "print('---------------')\n",
    "print('There are %d test plant seedling images.' % test_file_count)"
   ]
  },
  {
   "cell_type": "markdown",
   "metadata": {},
   "source": [
    "### Data Distribution"
   ]
  },
  {
   "cell_type": "code",
   "execution_count": 23,
   "metadata": {},
   "outputs": [
    {
     "data": {
      "image/png": "[encoded data removed]",
      "text/plain": [
       "<Figure size 432x288 with 1 Axes>"
      ]
     },
     "metadata": {
      "needs_background": "light"
     },
     "output_type": "display_data"
    },
    {
     "name": "stdout",
     "output_type": "stream",
     "text": [
      "-----------------\n",
      "DATA DISTRIBUTION\n",
      "-----------------\n",
      "1. Black-grass has 263 records\n",
      "2. Charlock has 390 records\n",
      "3. Cleavers has 287 records\n",
      "4. Common Chickweed has 611 records\n",
      "5. Common wheat has 221 records\n",
      "6. Fat Hen has 475 records\n",
      "7. Loose Silky-bent has 654 records\n",
      "8. Maize has 221 records\n",
      "9. Scentless Mayweed has 516 records\n",
      "10. Shepherds Purse has 231 records\n",
      "11. Small-flowered Cranesbill has 496 records\n",
      "12. Sugar beet has 385 records\n"
     ]
    }
   ],
   "source": [
    "import matplotlib.pyplot as plt\n",
    "\n",
    "category_count = np.sum(train_targets, axis=0)\n",
    "'''\n",
    "Function for displaying categorical data distribution to check if dataset is balanced\n",
    "TODO: data augmentation if dataset is unbalanced\n",
    "'''\n",
    "def categorical_dist_graph(categories, count):\n",
    "    fig, ax = plt.subplots()\n",
    "   # ax.step(np.arange(len(categories)), count)\n",
    "    ax.bar(np.arange(len(categories)), count)\n",
    "    ax.set_ylabel('No. of sample images per category')\n",
    "    ax.set_xticks(np.arange(len(categories)))\n",
    "    ax.set_xticklabels(categories, rotation = 'vertical')\n",
    "    ax.set_title('Category distribution of dataset')\n",
    "    plt.show()\n",
    "\n",
    "categorical_dist_graph(categories, category_count)\n",
    "\n",
    "print(\"-----------------\")\n",
    "print(\"DATA DISTRIBUTION\")\n",
    "print(\"-----------------\")\n",
    "for i in range(0,12):\n",
    "    print('%d. %s has %d records' % (i+1, categories[i], category_count[i]))\n",
    "    \n"
   ]
  },
  {
   "cell_type": "markdown",
   "metadata": {},
   "source": [
    "### Sample Images from each category"
   ]
  },
  {
   "cell_type": "code",
   "execution_count": 32,
   "metadata": {},
   "outputs": [
    {
     "name": "stdout",
     "output_type": "stream",
     "text": [
      "Cleavers\n"
     ]
    },
    {
     "ename": "NameError",
     "evalue": "name 'img_path' is not defined",
     "output_type": "error",
     "traceback": [
      "\u001b[0;31m---------------------------------------------------------------------------\u001b[0m",
      "\u001b[0;31mNameError\u001b[0m                                 Traceback (most recent call last)",
      "\u001b[0;32m<ipython-input-32-d31c26b83223>\u001b[0m in \u001b[0;36m<module>\u001b[0;34m\u001b[0m\n\u001b[1;32m      8\u001b[0m         \u001b[0;32mfor\u001b[0m \u001b[0mroot\u001b[0m\u001b[0;34m,\u001b[0m \u001b[0mdirs\u001b[0m\u001b[0;34m,\u001b[0m \u001b[0mfiles\u001b[0m \u001b[0;32min\u001b[0m \u001b[0mos\u001b[0m\u001b[0;34m.\u001b[0m\u001b[0mwalk\u001b[0m\u001b[0;34m(\u001b[0m\u001b[0;34m\"seedlingdata/train/\"\u001b[0m\u001b[0;34m+\u001b[0m\u001b[0mdirectory\u001b[0m\u001b[0;34m)\u001b[0m\u001b[0;34m:\u001b[0m\u001b[0;34m\u001b[0m\u001b[0m\n\u001b[1;32m      9\u001b[0m             \u001b[0;32mfor\u001b[0m \u001b[0mfile\u001b[0m \u001b[0;32min\u001b[0m \u001b[0mfiles\u001b[0m\u001b[0;34m:\u001b[0m\u001b[0;34m\u001b[0m\u001b[0m\n\u001b[0;32m---> 10\u001b[0;31m                 \u001b[0mimg\u001b[0m \u001b[0;34m=\u001b[0m \u001b[0mcv2\u001b[0m\u001b[0;34m.\u001b[0m\u001b[0mimread\u001b[0m\u001b[0;34m(\u001b[0m\u001b[0mimg_path\u001b[0m\u001b[0;34m)\u001b[0m\u001b[0;34m\u001b[0m\u001b[0m\n\u001b[0m\u001b[1;32m     11\u001b[0m                 \u001b[0mcv_rgb\u001b[0m \u001b[0;34m=\u001b[0m \u001b[0mcv2\u001b[0m\u001b[0;34m.\u001b[0m\u001b[0mcvtColor\u001b[0m\u001b[0;34m(\u001b[0m\u001b[0mimg\u001b[0m\u001b[0;34m,\u001b[0m \u001b[0mcv2\u001b[0m\u001b[0;34m.\u001b[0m\u001b[0mCOLOR_BGR2RGB\u001b[0m\u001b[0;34m)\u001b[0m\u001b[0;34m\u001b[0m\u001b[0m\n\u001b[1;32m     12\u001b[0m                 \u001b[0mimgplot\u001b[0m \u001b[0;34m=\u001b[0m \u001b[0mplt\u001b[0m\u001b[0;34m.\u001b[0m\u001b[0mimshow\u001b[0m\u001b[0;34m(\u001b[0m\u001b[0mcv_rgb\u001b[0m\u001b[0;34m)\u001b[0m\u001b[0;34m\u001b[0m\u001b[0m\n",
      "\u001b[0;31mNameError\u001b[0m: name 'img_path' is not defined"
     ]
    }
   ],
   "source": [
    "import cv2\n",
    "%matplotlib inline\n",
    "\n",
    "for root, dirs, files in os.walk(\"seedlingdata/train\"):  \n",
    "    for directory in dirs:\n",
    "        print(directory)\n",
    "        count = 0\n",
    "        for root, dirs, files in os.walk(\"seedlingdata/train/\"+directory):\n",
    "            for file in files:\n",
    "                img = cv2.imread(img_path)\n",
    "                cv_rgb = cv2.cvtColor(img, cv2.COLOR_BGR2RGB)\n",
    "                imgplot = plt.imshow(cv_rgb)\n",
    "\n",
    "                \n"
   ]
  },
  {
   "cell_type": "code",
   "execution_count": null,
   "metadata": {},
   "outputs": [],
   "source": [
    "import cv2\n",
    "%matplotlib inline\n",
    "\n",
    "# create a dictionary of all the files and categories\n",
    "def create_category_dict(file_names, categories):\n",
    "    # loop over all file names\n",
    "    for category in categories:\n",
    "        for file in file_names:\n",
    "            if \n",
    "\n",
    "def display_img(img_path):\n",
    "    \n",
    "    img = cv2.imread(img_path)\n",
    "    cv_rgb = cv2.cvtColor(img, cv2.COLOR_BGR2RGB)\n",
    "    imgplot = plt.imshow(cv_rgb)\n",
    "    return imgplot\n",
    "\n"
   ]
  }
 ],
 "metadata": {
  "kernelspec": {
   "display_name": "Python 3",
   "language": "python",
   "name": "python3"
  },
  "language_info": {
   "codemirror_mode": {
    "name": "ipython",
    "version": 3
   },
   "file_extension": ".py",
   "mimetype": "text/x-python",
   "name": "python",
   "nbconvert_exporter": "python",
   "pygments_lexer": "ipython3",
   "version": "3.6.6"
  }
 },
 "nbformat": 4,
 "nbformat_minor": 2
}
