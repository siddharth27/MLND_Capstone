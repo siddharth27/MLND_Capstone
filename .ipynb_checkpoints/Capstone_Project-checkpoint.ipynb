{
 "cells": [
  {
   "cell_type": "markdown",
   "metadata": {},
   "source": [
    "<u><center><h1>Udacity MLND Capstone Project</h1>\n",
    "<h2>Plant Seedling Classfication</h2></center></u> \n",
    "<p> This project is taken from the <a href='https://www.kaggle.com/c/plant-seedlings-classification'>kaggle competition</a>. It aims at detecting plant as a part of one of the 12 categories and will help in effective weed management.</p>\n",
    "<p> The code below is broken down in the following sections:\n",
    "    <ul>\n",
    "        <li> Data Exploration</li>\n",
    "        <li> Pre-processing of data </li>\n",
    "        <li> Creating CNN Model </li>\n",
    "        <li> Comparing Results </li>"
   ]
  },
  {
   "cell_type": "markdown",
   "metadata": {},
   "source": [
    "## 1. DATA EXPLORATION\n",
    "\n",
    "### Loading the data set"
   ]
  },
  {
   "cell_type": "code",
   "execution_count": 29,
   "metadata": {},
   "outputs": [
    {
     "name": "stdout",
     "output_type": "stream",
     "text": [
      "---------------\n",
      "TRAINING DATA\n",
      "---------------\n",
      "There are 4750 training plant seedling images.\n",
      "There are 12 total plant seedling categories\n",
      "List of categories: ['Black-grass', 'Charlock', 'Cleavers', 'Common Chickweed', 'Common wheat', 'Fat Hen', 'Loose Silky-bent', 'Maize', 'Scentless Mayweed', 'Shepherds Purse', 'Small-flowered Cranesbill', 'Sugar beet']\n",
      "---------------\n",
      "TEST DATA\n",
      "---------------\n",
      "There are 794 test plant seedling images.\n"
     ]
    }
   ],
   "source": [
    "from sklearn.datasets import load_files       \n",
    "from keras.utils import np_utils\n",
    "from glob import glob\n",
    "import numpy as np\n",
    "import os\n",
    "\n",
    "# define function to load train, test, and validation datasets\n",
    "def load_dataset(path):\n",
    "    data = load_files(path)\n",
    "    dog_files = np.array(data['filenames'])\n",
    "    dog_targets = np_utils.to_categorical(np.array(data['target']), 12)\n",
    "    return dog_files, dog_targets\n",
    "\n",
    "# load train, test, and validation datasets\n",
    "train_files, train_targets = load_dataset('seedlingdata/train')\n",
    "\n",
    "# load list of dog names\n",
    "categories = [item[19:-1] for item in sorted(glob(\"seedlingdata/train/*/\"))]\n",
    "\n",
    "# find count of test data\n",
    "path, dirs, files = next(os.walk(\"seedlingdata/test\"))\n",
    "test_file_count = len(files)\n",
    "\n",
    "# print statistics about the dataset\n",
    "print('---------------')\n",
    "print('TRAINING DATA')\n",
    "print('---------------')\n",
    "print('There are %d training plant seedling images.' % len(train_files))\n",
    "print('There are %d total plant seedling categories' % len(categories))\n",
    "print('List of categories:',categories)\n",
    "\n",
    "print('---------------')\n",
    "print('TEST DATA')\n",
    "print('---------------')\n",
    "print('There are %d test plant seedling images.' % test_file_count)"
   ]
  },
  {
   "cell_type": "code",
   "execution_count": null,
   "metadata": {},
   "outputs": [],
   "source": []
  }
 ],
 "metadata": {
  "kernelspec": {
   "display_name": "Python 3",
   "language": "python",
   "name": "python3"
  },
  "language_info": {
   "codemirror_mode": {
    "name": "ipython",
    "version": 3
   },
   "file_extension": ".py",
   "mimetype": "text/x-python",
   "name": "python",
   "nbconvert_exporter": "python",
   "pygments_lexer": "ipython3",
   "version": "3.5.2"
  }
 },
 "nbformat": 4,
 "nbformat_minor": 2
}
